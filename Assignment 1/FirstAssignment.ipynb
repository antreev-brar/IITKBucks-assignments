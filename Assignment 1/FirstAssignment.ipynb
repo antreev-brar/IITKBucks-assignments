{
  "nbformat": 4,
  "nbformat_minor": 0,
  "metadata": {
    "colab": {
      "name": "FirstAssignment.ipynb",
      "provenance": []
    },
    "kernelspec": {
      "name": "python3",
      "display_name": "Python 3"
    }
  },
  "cells": [
    {
      "cell_type": "code",
      "metadata": {
        "id": "gb2a07Sy_28c",
        "colab_type": "code",
        "colab": {
          "base_uri": "https://localhost:8080/",
          "height": 52
        },
        "outputId": "e4b41e9d-b3a6-4110-a50a-57ec8d116cb3"
      },
      "source": [
        "import hashlib\n",
        "import string\n",
        "target ='0000FFFFFFFFFFFFFFFFFFFFFFFFFFFFFFFFFFFFFFFFFFFFFFFFFFFFFFFFFFFF'\n",
        "\n",
        "entry = input(\"Enter your value: \") \n",
        "print(entry)"
      ],
      "execution_count": 51,
      "outputs": [
        {
          "output_type": "stream",
          "text": [
            "Enter your value: sadnfljnsdnsdasd\n",
            "sadnfljnsdnsdasd\n"
          ],
          "name": "stdout"
        }
      ]
    },
    {
      "cell_type": "code",
      "metadata": {
        "id": "q40gI9rSHnL8",
        "colab_type": "code",
        "colab": {}
      },
      "source": [
        "a= 1\n",
        "while(True):\n",
        "  append_string = entry + a.__str__()\n",
        "  result = hashlib.sha256(append_string.encode())\n",
        "  final = result.hexdigest().upper()\n",
        "  if(final < target):\n",
        "     break\n",
        "  else :\n",
        "    a = a + 1\n"
      ],
      "execution_count": 0,
      "outputs": []
    },
    {
      "cell_type": "code",
      "metadata": {
        "id": "RKs_c0ItEHnm",
        "colab_type": "code",
        "colab": {
          "base_uri": "https://localhost:8080/",
          "height": 34
        },
        "outputId": "ed98b18a-c207-422b-eea7-d1c1983158cd"
      },
      "source": [
        "print(a)"
      ],
      "execution_count": 53,
      "outputs": [
        {
          "output_type": "stream",
          "text": [
            "3565\n"
          ],
          "name": "stdout"
        }
      ]
    },
    {
      "cell_type": "code",
      "metadata": {
        "id": "hXBt_yp_RhA-",
        "colab_type": "code",
        "colab": {
          "base_uri": "https://localhost:8080/",
          "height": 34
        },
        "outputId": "7a7cccdf-35ba-4533-ba64-ef0bfd63f076"
      },
      "source": [
        "'''\n",
        "append_string = entry + a.__str__()\n",
        "result = hashlib.sha256(append_string.encode())\n",
        "final = result.hexdigest().upper()\n",
        "final\n",
        "'''"
      ],
      "execution_count": 54,
      "outputs": [
        {
          "output_type": "execute_result",
          "data": {
            "text/plain": [
              "'00006844DF4CF781E95C6A8AA364A687831EB0468A68225DC260956C04941E86'"
            ]
          },
          "metadata": {
            "tags": []
          },
          "execution_count": 54
        }
      ]
    }
  ]
}